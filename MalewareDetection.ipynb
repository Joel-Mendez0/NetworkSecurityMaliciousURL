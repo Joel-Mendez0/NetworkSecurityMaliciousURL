{
 "cells": [
  {
   "cell_type": "code",
   "execution_count": 1,
   "id": "dddf5cd3-f1e5-44f5-b49f-67c205df501b",
   "metadata": {},
   "outputs": [],
   "source": [
    "import pandas as pd\n",
    "import numpy as np\n",
    "import matplotlib.pyplot as plt\n",
    "import seaborn as sns"
   ]
  },
  {
   "cell_type": "code",
   "execution_count": 2,
   "id": "6c2d51f1-954c-44e1-831f-ab897abbdc39",
   "metadata": {},
   "outputs": [],
   "source": [
    "malData = pd.read_csv('/home/joel/URLdetection/Malware Detection YT/MalwareData.csv', sep=\"|\",low_memory = True)"
   ]
  },
  {
   "cell_type": "code",
   "execution_count": 3,
   "id": "73551c41-fc86-47a9-b567-4a426bb93635",
   "metadata": {},
   "outputs": [
    {
     "data": {
      "text/html": [
       "<div>\n",
       "<style scoped>\n",
       "    .dataframe tbody tr th:only-of-type {\n",
       "        vertical-align: middle;\n",
       "    }\n",
       "\n",
       "    .dataframe tbody tr th {\n",
       "        vertical-align: top;\n",
       "    }\n",
       "\n",
       "    .dataframe thead th {\n",
       "        text-align: right;\n",
       "    }\n",
       "</style>\n",
       "<table border=\"1\" class=\"dataframe\">\n",
       "  <thead>\n",
       "    <tr style=\"text-align: right;\">\n",
       "      <th></th>\n",
       "      <th>Name</th>\n",
       "      <th>md5</th>\n",
       "      <th>Machine</th>\n",
       "      <th>SizeOfOptionalHeader</th>\n",
       "      <th>Characteristics</th>\n",
       "      <th>MajorLinkerVersion</th>\n",
       "      <th>MinorLinkerVersion</th>\n",
       "      <th>SizeOfCode</th>\n",
       "      <th>SizeOfInitializedData</th>\n",
       "      <th>SizeOfUninitializedData</th>\n",
       "      <th>...</th>\n",
       "      <th>ResourcesNb</th>\n",
       "      <th>ResourcesMeanEntropy</th>\n",
       "      <th>ResourcesMinEntropy</th>\n",
       "      <th>ResourcesMaxEntropy</th>\n",
       "      <th>ResourcesMeanSize</th>\n",
       "      <th>ResourcesMinSize</th>\n",
       "      <th>ResourcesMaxSize</th>\n",
       "      <th>LoadConfigurationSize</th>\n",
       "      <th>VersionInformationSize</th>\n",
       "      <th>legitimate</th>\n",
       "    </tr>\n",
       "  </thead>\n",
       "  <tbody>\n",
       "    <tr>\n",
       "      <th>0</th>\n",
       "      <td>memtest.exe</td>\n",
       "      <td>631ea355665f28d4707448e442fbf5b8</td>\n",
       "      <td>332</td>\n",
       "      <td>224</td>\n",
       "      <td>258</td>\n",
       "      <td>9</td>\n",
       "      <td>0</td>\n",
       "      <td>361984</td>\n",
       "      <td>115712</td>\n",
       "      <td>0</td>\n",
       "      <td>...</td>\n",
       "      <td>4</td>\n",
       "      <td>3.262823</td>\n",
       "      <td>2.568844</td>\n",
       "      <td>3.537939</td>\n",
       "      <td>8797.000000</td>\n",
       "      <td>216</td>\n",
       "      <td>18032</td>\n",
       "      <td>0</td>\n",
       "      <td>16</td>\n",
       "      <td>1</td>\n",
       "    </tr>\n",
       "    <tr>\n",
       "      <th>1</th>\n",
       "      <td>ose.exe</td>\n",
       "      <td>9d10f99a6712e28f8acd5641e3a7ea6b</td>\n",
       "      <td>332</td>\n",
       "      <td>224</td>\n",
       "      <td>3330</td>\n",
       "      <td>9</td>\n",
       "      <td>0</td>\n",
       "      <td>130560</td>\n",
       "      <td>19968</td>\n",
       "      <td>0</td>\n",
       "      <td>...</td>\n",
       "      <td>2</td>\n",
       "      <td>4.250461</td>\n",
       "      <td>3.420744</td>\n",
       "      <td>5.080177</td>\n",
       "      <td>837.000000</td>\n",
       "      <td>518</td>\n",
       "      <td>1156</td>\n",
       "      <td>72</td>\n",
       "      <td>18</td>\n",
       "      <td>1</td>\n",
       "    </tr>\n",
       "    <tr>\n",
       "      <th>2</th>\n",
       "      <td>setup.exe</td>\n",
       "      <td>4d92f518527353c0db88a70fddcfd390</td>\n",
       "      <td>332</td>\n",
       "      <td>224</td>\n",
       "      <td>3330</td>\n",
       "      <td>9</td>\n",
       "      <td>0</td>\n",
       "      <td>517120</td>\n",
       "      <td>621568</td>\n",
       "      <td>0</td>\n",
       "      <td>...</td>\n",
       "      <td>11</td>\n",
       "      <td>4.426324</td>\n",
       "      <td>2.846449</td>\n",
       "      <td>5.271813</td>\n",
       "      <td>31102.272727</td>\n",
       "      <td>104</td>\n",
       "      <td>270376</td>\n",
       "      <td>72</td>\n",
       "      <td>18</td>\n",
       "      <td>1</td>\n",
       "    </tr>\n",
       "    <tr>\n",
       "      <th>3</th>\n",
       "      <td>DW20.EXE</td>\n",
       "      <td>a41e524f8d45f0074fd07805ff0c9b12</td>\n",
       "      <td>332</td>\n",
       "      <td>224</td>\n",
       "      <td>258</td>\n",
       "      <td>9</td>\n",
       "      <td>0</td>\n",
       "      <td>585728</td>\n",
       "      <td>369152</td>\n",
       "      <td>0</td>\n",
       "      <td>...</td>\n",
       "      <td>10</td>\n",
       "      <td>4.364291</td>\n",
       "      <td>2.669314</td>\n",
       "      <td>6.400720</td>\n",
       "      <td>1457.000000</td>\n",
       "      <td>90</td>\n",
       "      <td>4264</td>\n",
       "      <td>72</td>\n",
       "      <td>18</td>\n",
       "      <td>1</td>\n",
       "    </tr>\n",
       "    <tr>\n",
       "      <th>4</th>\n",
       "      <td>dwtrig20.exe</td>\n",
       "      <td>c87e561258f2f8650cef999bf643a731</td>\n",
       "      <td>332</td>\n",
       "      <td>224</td>\n",
       "      <td>258</td>\n",
       "      <td>9</td>\n",
       "      <td>0</td>\n",
       "      <td>294912</td>\n",
       "      <td>247296</td>\n",
       "      <td>0</td>\n",
       "      <td>...</td>\n",
       "      <td>2</td>\n",
       "      <td>4.306100</td>\n",
       "      <td>3.421598</td>\n",
       "      <td>5.190603</td>\n",
       "      <td>1074.500000</td>\n",
       "      <td>849</td>\n",
       "      <td>1300</td>\n",
       "      <td>72</td>\n",
       "      <td>18</td>\n",
       "      <td>1</td>\n",
       "    </tr>\n",
       "  </tbody>\n",
       "</table>\n",
       "<p>5 rows × 57 columns</p>\n",
       "</div>"
      ],
      "text/plain": [
       "           Name                               md5  Machine  \\\n",
       "0   memtest.exe  631ea355665f28d4707448e442fbf5b8      332   \n",
       "1       ose.exe  9d10f99a6712e28f8acd5641e3a7ea6b      332   \n",
       "2     setup.exe  4d92f518527353c0db88a70fddcfd390      332   \n",
       "3      DW20.EXE  a41e524f8d45f0074fd07805ff0c9b12      332   \n",
       "4  dwtrig20.exe  c87e561258f2f8650cef999bf643a731      332   \n",
       "\n",
       "   SizeOfOptionalHeader  Characteristics  MajorLinkerVersion  \\\n",
       "0                   224              258                   9   \n",
       "1                   224             3330                   9   \n",
       "2                   224             3330                   9   \n",
       "3                   224              258                   9   \n",
       "4                   224              258                   9   \n",
       "\n",
       "   MinorLinkerVersion  SizeOfCode  SizeOfInitializedData  \\\n",
       "0                   0      361984                 115712   \n",
       "1                   0      130560                  19968   \n",
       "2                   0      517120                 621568   \n",
       "3                   0      585728                 369152   \n",
       "4                   0      294912                 247296   \n",
       "\n",
       "   SizeOfUninitializedData  ...  ResourcesNb  ResourcesMeanEntropy  \\\n",
       "0                        0  ...            4              3.262823   \n",
       "1                        0  ...            2              4.250461   \n",
       "2                        0  ...           11              4.426324   \n",
       "3                        0  ...           10              4.364291   \n",
       "4                        0  ...            2              4.306100   \n",
       "\n",
       "   ResourcesMinEntropy  ResourcesMaxEntropy  ResourcesMeanSize  \\\n",
       "0             2.568844             3.537939        8797.000000   \n",
       "1             3.420744             5.080177         837.000000   \n",
       "2             2.846449             5.271813       31102.272727   \n",
       "3             2.669314             6.400720        1457.000000   \n",
       "4             3.421598             5.190603        1074.500000   \n",
       "\n",
       "   ResourcesMinSize  ResourcesMaxSize  LoadConfigurationSize  \\\n",
       "0               216             18032                      0   \n",
       "1               518              1156                     72   \n",
       "2               104            270376                     72   \n",
       "3                90              4264                     72   \n",
       "4               849              1300                     72   \n",
       "\n",
       "   VersionInformationSize  legitimate  \n",
       "0                      16           1  \n",
       "1                      18           1  \n",
       "2                      18           1  \n",
       "3                      18           1  \n",
       "4                      18           1  \n",
       "\n",
       "[5 rows x 57 columns]"
      ]
     },
     "execution_count": 3,
     "metadata": {},
     "output_type": "execute_result"
    }
   ],
   "source": [
    "malData.head()"
   ]
  },
  {
   "cell_type": "code",
   "execution_count": 4,
   "id": "dbfeaeba-005f-4c58-a8d6-bc70e583b66a",
   "metadata": {},
   "outputs": [
    {
     "data": {
      "text/plain": [
       "(138047, 57)"
      ]
     },
     "execution_count": 4,
     "metadata": {},
     "output_type": "execute_result"
    }
   ],
   "source": [
    "malData.shape"
   ]
  },
  {
   "cell_type": "code",
   "execution_count": 5,
   "id": "029eec6d-1f37-4ed6-9aa6-9bc46541de61",
   "metadata": {},
   "outputs": [
    {
     "data": {
      "text/html": [
       "<div>\n",
       "<style scoped>\n",
       "    .dataframe tbody tr th:only-of-type {\n",
       "        vertical-align: middle;\n",
       "    }\n",
       "\n",
       "    .dataframe tbody tr th {\n",
       "        vertical-align: top;\n",
       "    }\n",
       "\n",
       "    .dataframe thead th {\n",
       "        text-align: right;\n",
       "    }\n",
       "</style>\n",
       "<table border=\"1\" class=\"dataframe\">\n",
       "  <thead>\n",
       "    <tr style=\"text-align: right;\">\n",
       "      <th></th>\n",
       "      <th>Machine</th>\n",
       "      <th>SizeOfOptionalHeader</th>\n",
       "      <th>Characteristics</th>\n",
       "      <th>MajorLinkerVersion</th>\n",
       "      <th>MinorLinkerVersion</th>\n",
       "      <th>SizeOfCode</th>\n",
       "      <th>SizeOfInitializedData</th>\n",
       "      <th>SizeOfUninitializedData</th>\n",
       "      <th>AddressOfEntryPoint</th>\n",
       "      <th>BaseOfCode</th>\n",
       "      <th>...</th>\n",
       "      <th>ResourcesNb</th>\n",
       "      <th>ResourcesMeanEntropy</th>\n",
       "      <th>ResourcesMinEntropy</th>\n",
       "      <th>ResourcesMaxEntropy</th>\n",
       "      <th>ResourcesMeanSize</th>\n",
       "      <th>ResourcesMinSize</th>\n",
       "      <th>ResourcesMaxSize</th>\n",
       "      <th>LoadConfigurationSize</th>\n",
       "      <th>VersionInformationSize</th>\n",
       "      <th>legitimate</th>\n",
       "    </tr>\n",
       "  </thead>\n",
       "  <tbody>\n",
       "    <tr>\n",
       "      <th>count</th>\n",
       "      <td>138047.000000</td>\n",
       "      <td>138047.000000</td>\n",
       "      <td>138047.000000</td>\n",
       "      <td>138047.000000</td>\n",
       "      <td>138047.000000</td>\n",
       "      <td>1.380470e+05</td>\n",
       "      <td>1.380470e+05</td>\n",
       "      <td>1.380470e+05</td>\n",
       "      <td>1.380470e+05</td>\n",
       "      <td>1.380470e+05</td>\n",
       "      <td>...</td>\n",
       "      <td>138047.000000</td>\n",
       "      <td>138047.000000</td>\n",
       "      <td>138047.000000</td>\n",
       "      <td>138047.000000</td>\n",
       "      <td>1.380470e+05</td>\n",
       "      <td>1.380470e+05</td>\n",
       "      <td>1.380470e+05</td>\n",
       "      <td>1.380470e+05</td>\n",
       "      <td>138047.000000</td>\n",
       "      <td>138047.000000</td>\n",
       "    </tr>\n",
       "    <tr>\n",
       "      <th>mean</th>\n",
       "      <td>4259.069274</td>\n",
       "      <td>225.845632</td>\n",
       "      <td>4444.145994</td>\n",
       "      <td>8.619774</td>\n",
       "      <td>3.819286</td>\n",
       "      <td>2.425956e+05</td>\n",
       "      <td>4.504867e+05</td>\n",
       "      <td>1.009525e+05</td>\n",
       "      <td>1.719561e+05</td>\n",
       "      <td>5.779845e+04</td>\n",
       "      <td>...</td>\n",
       "      <td>22.050700</td>\n",
       "      <td>4.000127</td>\n",
       "      <td>2.434541</td>\n",
       "      <td>5.521610</td>\n",
       "      <td>5.545093e+04</td>\n",
       "      <td>1.818082e+04</td>\n",
       "      <td>2.465903e+05</td>\n",
       "      <td>4.656750e+05</td>\n",
       "      <td>12.363115</td>\n",
       "      <td>0.299340</td>\n",
       "    </tr>\n",
       "    <tr>\n",
       "      <th>std</th>\n",
       "      <td>10880.347245</td>\n",
       "      <td>5.121399</td>\n",
       "      <td>8186.782524</td>\n",
       "      <td>4.088757</td>\n",
       "      <td>11.862675</td>\n",
       "      <td>5.754485e+06</td>\n",
       "      <td>2.101599e+07</td>\n",
       "      <td>1.635288e+07</td>\n",
       "      <td>3.430553e+06</td>\n",
       "      <td>5.527658e+06</td>\n",
       "      <td>...</td>\n",
       "      <td>136.494244</td>\n",
       "      <td>1.112981</td>\n",
       "      <td>0.815577</td>\n",
       "      <td>1.597403</td>\n",
       "      <td>7.799163e+06</td>\n",
       "      <td>6.502369e+06</td>\n",
       "      <td>2.124860e+07</td>\n",
       "      <td>2.608987e+07</td>\n",
       "      <td>6.798878</td>\n",
       "      <td>0.457971</td>\n",
       "    </tr>\n",
       "    <tr>\n",
       "      <th>min</th>\n",
       "      <td>332.000000</td>\n",
       "      <td>224.000000</td>\n",
       "      <td>2.000000</td>\n",
       "      <td>0.000000</td>\n",
       "      <td>0.000000</td>\n",
       "      <td>0.000000e+00</td>\n",
       "      <td>0.000000e+00</td>\n",
       "      <td>0.000000e+00</td>\n",
       "      <td>0.000000e+00</td>\n",
       "      <td>0.000000e+00</td>\n",
       "      <td>...</td>\n",
       "      <td>0.000000</td>\n",
       "      <td>0.000000</td>\n",
       "      <td>0.000000</td>\n",
       "      <td>0.000000</td>\n",
       "      <td>0.000000e+00</td>\n",
       "      <td>0.000000e+00</td>\n",
       "      <td>0.000000e+00</td>\n",
       "      <td>0.000000e+00</td>\n",
       "      <td>0.000000</td>\n",
       "      <td>0.000000</td>\n",
       "    </tr>\n",
       "    <tr>\n",
       "      <th>25%</th>\n",
       "      <td>332.000000</td>\n",
       "      <td>224.000000</td>\n",
       "      <td>258.000000</td>\n",
       "      <td>8.000000</td>\n",
       "      <td>0.000000</td>\n",
       "      <td>3.020800e+04</td>\n",
       "      <td>2.457600e+04</td>\n",
       "      <td>0.000000e+00</td>\n",
       "      <td>1.272100e+04</td>\n",
       "      <td>4.096000e+03</td>\n",
       "      <td>...</td>\n",
       "      <td>5.000000</td>\n",
       "      <td>3.458505</td>\n",
       "      <td>2.178748</td>\n",
       "      <td>4.828706</td>\n",
       "      <td>9.560000e+02</td>\n",
       "      <td>4.800000e+01</td>\n",
       "      <td>2.216000e+03</td>\n",
       "      <td>0.000000e+00</td>\n",
       "      <td>13.000000</td>\n",
       "      <td>0.000000</td>\n",
       "    </tr>\n",
       "    <tr>\n",
       "      <th>50%</th>\n",
       "      <td>332.000000</td>\n",
       "      <td>224.000000</td>\n",
       "      <td>258.000000</td>\n",
       "      <td>9.000000</td>\n",
       "      <td>0.000000</td>\n",
       "      <td>1.136640e+05</td>\n",
       "      <td>2.631680e+05</td>\n",
       "      <td>0.000000e+00</td>\n",
       "      <td>5.288300e+04</td>\n",
       "      <td>4.096000e+03</td>\n",
       "      <td>...</td>\n",
       "      <td>6.000000</td>\n",
       "      <td>3.729824</td>\n",
       "      <td>2.458492</td>\n",
       "      <td>5.317552</td>\n",
       "      <td>2.708154e+03</td>\n",
       "      <td>4.800000e+01</td>\n",
       "      <td>9.640000e+03</td>\n",
       "      <td>7.200000e+01</td>\n",
       "      <td>15.000000</td>\n",
       "      <td>0.000000</td>\n",
       "    </tr>\n",
       "    <tr>\n",
       "      <th>75%</th>\n",
       "      <td>332.000000</td>\n",
       "      <td>224.000000</td>\n",
       "      <td>8226.000000</td>\n",
       "      <td>10.000000</td>\n",
       "      <td>0.000000</td>\n",
       "      <td>1.203200e+05</td>\n",
       "      <td>3.850240e+05</td>\n",
       "      <td>0.000000e+00</td>\n",
       "      <td>6.157800e+04</td>\n",
       "      <td>4.096000e+03</td>\n",
       "      <td>...</td>\n",
       "      <td>13.000000</td>\n",
       "      <td>4.233051</td>\n",
       "      <td>2.696833</td>\n",
       "      <td>6.502239</td>\n",
       "      <td>6.558429e+03</td>\n",
       "      <td>1.320000e+02</td>\n",
       "      <td>2.378000e+04</td>\n",
       "      <td>7.200000e+01</td>\n",
       "      <td>16.000000</td>\n",
       "      <td>1.000000</td>\n",
       "    </tr>\n",
       "    <tr>\n",
       "      <th>max</th>\n",
       "      <td>34404.000000</td>\n",
       "      <td>352.000000</td>\n",
       "      <td>49551.000000</td>\n",
       "      <td>255.000000</td>\n",
       "      <td>255.000000</td>\n",
       "      <td>1.818587e+09</td>\n",
       "      <td>4.294966e+09</td>\n",
       "      <td>4.294941e+09</td>\n",
       "      <td>1.074484e+09</td>\n",
       "      <td>2.028711e+09</td>\n",
       "      <td>...</td>\n",
       "      <td>7694.000000</td>\n",
       "      <td>7.999723</td>\n",
       "      <td>7.999723</td>\n",
       "      <td>8.000000</td>\n",
       "      <td>2.415919e+09</td>\n",
       "      <td>2.415919e+09</td>\n",
       "      <td>4.294903e+09</td>\n",
       "      <td>4.294967e+09</td>\n",
       "      <td>26.000000</td>\n",
       "      <td>1.000000</td>\n",
       "    </tr>\n",
       "  </tbody>\n",
       "</table>\n",
       "<p>8 rows × 55 columns</p>\n",
       "</div>"
      ],
      "text/plain": [
       "             Machine  SizeOfOptionalHeader  Characteristics  \\\n",
       "count  138047.000000         138047.000000    138047.000000   \n",
       "mean     4259.069274            225.845632      4444.145994   \n",
       "std     10880.347245              5.121399      8186.782524   \n",
       "min       332.000000            224.000000         2.000000   \n",
       "25%       332.000000            224.000000       258.000000   \n",
       "50%       332.000000            224.000000       258.000000   \n",
       "75%       332.000000            224.000000      8226.000000   \n",
       "max     34404.000000            352.000000     49551.000000   \n",
       "\n",
       "       MajorLinkerVersion  MinorLinkerVersion    SizeOfCode  \\\n",
       "count       138047.000000       138047.000000  1.380470e+05   \n",
       "mean             8.619774            3.819286  2.425956e+05   \n",
       "std              4.088757           11.862675  5.754485e+06   \n",
       "min              0.000000            0.000000  0.000000e+00   \n",
       "25%              8.000000            0.000000  3.020800e+04   \n",
       "50%              9.000000            0.000000  1.136640e+05   \n",
       "75%             10.000000            0.000000  1.203200e+05   \n",
       "max            255.000000          255.000000  1.818587e+09   \n",
       "\n",
       "       SizeOfInitializedData  SizeOfUninitializedData  AddressOfEntryPoint  \\\n",
       "count           1.380470e+05             1.380470e+05         1.380470e+05   \n",
       "mean            4.504867e+05             1.009525e+05         1.719561e+05   \n",
       "std             2.101599e+07             1.635288e+07         3.430553e+06   \n",
       "min             0.000000e+00             0.000000e+00         0.000000e+00   \n",
       "25%             2.457600e+04             0.000000e+00         1.272100e+04   \n",
       "50%             2.631680e+05             0.000000e+00         5.288300e+04   \n",
       "75%             3.850240e+05             0.000000e+00         6.157800e+04   \n",
       "max             4.294966e+09             4.294941e+09         1.074484e+09   \n",
       "\n",
       "         BaseOfCode  ...    ResourcesNb  ResourcesMeanEntropy  \\\n",
       "count  1.380470e+05  ...  138047.000000         138047.000000   \n",
       "mean   5.779845e+04  ...      22.050700              4.000127   \n",
       "std    5.527658e+06  ...     136.494244              1.112981   \n",
       "min    0.000000e+00  ...       0.000000              0.000000   \n",
       "25%    4.096000e+03  ...       5.000000              3.458505   \n",
       "50%    4.096000e+03  ...       6.000000              3.729824   \n",
       "75%    4.096000e+03  ...      13.000000              4.233051   \n",
       "max    2.028711e+09  ...    7694.000000              7.999723   \n",
       "\n",
       "       ResourcesMinEntropy  ResourcesMaxEntropy  ResourcesMeanSize  \\\n",
       "count        138047.000000        138047.000000       1.380470e+05   \n",
       "mean              2.434541             5.521610       5.545093e+04   \n",
       "std               0.815577             1.597403       7.799163e+06   \n",
       "min               0.000000             0.000000       0.000000e+00   \n",
       "25%               2.178748             4.828706       9.560000e+02   \n",
       "50%               2.458492             5.317552       2.708154e+03   \n",
       "75%               2.696833             6.502239       6.558429e+03   \n",
       "max               7.999723             8.000000       2.415919e+09   \n",
       "\n",
       "       ResourcesMinSize  ResourcesMaxSize  LoadConfigurationSize  \\\n",
       "count      1.380470e+05      1.380470e+05           1.380470e+05   \n",
       "mean       1.818082e+04      2.465903e+05           4.656750e+05   \n",
       "std        6.502369e+06      2.124860e+07           2.608987e+07   \n",
       "min        0.000000e+00      0.000000e+00           0.000000e+00   \n",
       "25%        4.800000e+01      2.216000e+03           0.000000e+00   \n",
       "50%        4.800000e+01      9.640000e+03           7.200000e+01   \n",
       "75%        1.320000e+02      2.378000e+04           7.200000e+01   \n",
       "max        2.415919e+09      4.294903e+09           4.294967e+09   \n",
       "\n",
       "       VersionInformationSize     legitimate  \n",
       "count           138047.000000  138047.000000  \n",
       "mean                12.363115       0.299340  \n",
       "std                  6.798878       0.457971  \n",
       "min                  0.000000       0.000000  \n",
       "25%                 13.000000       0.000000  \n",
       "50%                 15.000000       0.000000  \n",
       "75%                 16.000000       1.000000  \n",
       "max                 26.000000       1.000000  \n",
       "\n",
       "[8 rows x 55 columns]"
      ]
     },
     "execution_count": 5,
     "metadata": {},
     "output_type": "execute_result"
    }
   ],
   "source": [
    "malData.describe()"
   ]
  },
  {
   "cell_type": "code",
   "execution_count": 6,
   "id": "92fd00ef-3f21-4dda-999d-471177d6c9df",
   "metadata": {},
   "outputs": [
    {
     "name": "stdout",
     "output_type": "stream",
     "text": [
      "Shape of legit dataset is: 41323 samples, 56 features\n",
      "Shape of mal dataset is: 96724 samples, 56 features\n"
     ]
    }
   ],
   "source": [
    "legit = malData[0:41323].drop([\"legitimate\"],axis=1)\n",
    "mal = malData[41323::].drop([\"legitimate\"],axis=1)\n",
    "print(\"Shape of legit dataset is: %s samples, %s features\"%(legit.shape[0],legit.shape[1]))\n",
    "print(\"Shape of mal dataset is: %s samples, %s features\"%(mal.shape[0],mal.shape[1]))"
   ]
  },
  {
   "cell_type": "code",
   "execution_count": 7,
   "id": "66eb8501-2330-41af-98f0-9c14e158a633",
   "metadata": {},
   "outputs": [
    {
     "data": {
      "image/png": "[encoded data removed]",
      "text/plain": [
       "<Figure size 640x480 with 1 Axes>"
      ]
     },
     "metadata": {},
     "output_type": "display_data"
    }
   ],
   "source": [
    "fig = plt.figure()\n",
    "ax = fig.add_axes([0,0,1,1])\n",
    "ax.hist(malData['legitimate'],20)\n",
    "plt.show()"
   ]
  },
  {
   "cell_type": "code",
   "execution_count": 8,
   "id": "8bf99eb4-f471-455f-8c61-433e96df9318",
   "metadata": {},
   "outputs": [],
   "source": [
    "y = malData['legitimate']\n",
    "malData = malData.drop(['legitimate'],axis=1)"
   ]
  },
  {
   "cell_type": "code",
   "execution_count": 9,
   "id": "3d012a00-d526-4948-a15b-0a710041d70c",
   "metadata": {},
   "outputs": [
    {
     "name": "stdout",
     "output_type": "stream",
     "text": [
      "Name and md5 removed!\n"
     ]
    }
   ],
   "source": [
    "malData = malData.drop(['Name'],axis=1)\n",
    "malData = malData.drop(['md5'],axis=1)\n",
    "print(\"Name and md5 removed!\")"
   ]
  },
  {
   "cell_type": "code",
   "execution_count": 10,
   "id": "78299658-eed7-47a0-9aa2-2a7215bc66f1",
   "metadata": {},
   "outputs": [],
   "source": [
    "from sklearn.model_selection import train_test_split\n",
    "X_train, X_test, y_train, y_test = train_test_split(malData,y,test_size=0.2,random_state=42)"
   ]
  },
  {
   "cell_type": "code",
   "execution_count": 37,
   "id": "e2f71395-63f2-40b5-a986-6ccec7693952",
   "metadata": {},
   "outputs": [
    {
     "name": "stdout",
     "output_type": "stream",
     "text": [
      "        Machine  SizeOfOptionalHeader  Characteristics  MajorLinkerVersion  \\\n",
      "82660       332                   224              258                   8   \n",
      "99874       332                   224              258                  10   \n",
      "99419       332                   224              258                  11   \n",
      "114448      332                   224              258                  10   \n",
      "76751       332                   224              258                  11   \n",
      "...         ...                   ...              ...                 ...   \n",
      "130885      332                   224              783                   2   \n",
      "59794       332                   224              258                  10   \n",
      "13670       332                   224             8450                   9   \n",
      "75991       332                   224              258                   8   \n",
      "136868      332                   224              258                  10   \n",
      "\n",
      "        MinorLinkerVersion  SizeOfCode  SizeOfInitializedData  \\\n",
      "82660                    0        7680                 306688   \n",
      "99874                    0      120320                 385024   \n",
      "99419                    0      113664                 682496   \n",
      "114448                   0      119808                 385024   \n",
      "76751                    0      111616                 461312   \n",
      "...                    ...         ...                    ...   \n",
      "130885                  56       29184                  14848   \n",
      "59794                    0      119808                 385024   \n",
      "13670                    0           0                   6656   \n",
      "75991                    0        7680                 309760   \n",
      "136868                   0       28672                 445952   \n",
      "\n",
      "        SizeOfUninitializedData  AddressOfEntryPoint  BaseOfCode  ...  \\\n",
      "82660                         0                 5339        4096  ...   \n",
      "99874                         0                61562        4096  ...   \n",
      "99419                         0                24735        4096  ...   \n",
      "114448                        0                61532        4096  ...   \n",
      "76751                         0                19956        4096  ...   \n",
      "...                         ...                  ...         ...  ...   \n",
      "130885                   110592                14764        4096  ...   \n",
      "59794                         0                61532        4096  ...   \n",
      "13670                         0                    0        4096  ...   \n",
      "75991                         0                 5339        4096  ...   \n",
      "136868                    16896                14819        4096  ...   \n",
      "\n",
      "        ExportNb  ResourcesNb  ResourcesMeanEntropy  ResourcesMinEntropy  \\\n",
      "82660          0            6              3.408230             2.146071   \n",
      "99874          0            6              3.671986             2.458492   \n",
      "99419          0            7              4.453368             2.623078   \n",
      "114448         0            6              3.776760             2.458492   \n",
      "76751          0            8              6.056967             2.720743   \n",
      "...          ...          ...                   ...                  ...   \n",
      "130885         0            8              4.091269             2.458492   \n",
      "59794          0            6              3.752798             2.458492   \n",
      "13670          1            1              3.587733             3.587733   \n",
      "75991          0            6              3.650192             2.134219   \n",
      "136868         0            8              3.083610             1.971335   \n",
      "\n",
      "        ResourcesMaxEntropy  ResourcesMeanSize  ResourcesMinSize  \\\n",
      "82660              5.155409        1314.166667                48   \n",
      "99874              5.317552        2739.500000                48   \n",
      "99419              7.967002       80992.857143                62   \n",
      "114448             5.317552        2740.166667                48   \n",
      "76751              7.985092       45427.250000                76   \n",
      "...                     ...                ...               ...   \n",
      "130885             5.869969        2088.750000                48   \n",
      "59794              5.317552        2738.833333                48   \n",
      "13670              3.587733         940.000000               940   \n",
      "75991              5.155409        1314.166667                48   \n",
      "136868             5.198374         379.875000                34   \n",
      "\n",
      "        ResourcesMaxSize  LoadConfigurationSize  VersionInformationSize  \n",
      "82660               3752                      0                      23  \n",
      "99874               9640                     72                      15  \n",
      "99419             534528                      0                       0  \n",
      "114448              9640                     72                      15  \n",
      "76751             313344                     72                       0  \n",
      "...                  ...                    ...                     ...  \n",
      "130885              9640                      0                       0  \n",
      "59794               9640                     72                      15  \n",
      "13670                940                      0                      16  \n",
      "75991               3752                      0                      23  \n",
      "136868               744                      0                      13  \n",
      "\n",
      "[27610 rows x 54 columns]\n",
      "82660     0\n",
      "99874     0\n",
      "99419     0\n",
      "114448    0\n",
      "76751     0\n",
      "         ..\n",
      "130885    0\n",
      "59794     0\n",
      "13670     1\n",
      "75991     0\n",
      "136868    0\n",
      "Name: legitimate, Length: 27610, dtype: int64\n"
     ]
    }
   ],
   "source": [
    "print(X_test)\n",
    "print(y_test)"
   ]
  },
  {
   "cell_type": "code",
   "execution_count": 12,
   "id": "f003df35-fb78-4a0f-a452-75d81bbd3590",
   "metadata": {},
   "outputs": [],
   "source": [
    "from sklearn.ensemble import RandomForestClassifier\n",
    "from sklearn.datasets import make_classification\n",
    "clf = RandomForestClassifier(max_depth=2, random_state=0)\n",
    "randomModel = clf.fit(X_train,y_train)"
   ]
  },
  {
   "cell_type": "code",
   "execution_count": 13,
   "id": "4f2104d6-45ff-46a6-a314-250105ee5d23",
   "metadata": {},
   "outputs": [],
   "source": [
    "from sklearn.metrics import f1_score, accuracy_score, auc, confusion_matrix"
   ]
  },
  {
   "cell_type": "code",
   "execution_count": 14,
   "id": "f34266e7-1d2d-4f70-848c-95c62ee179b7",
   "metadata": {},
   "outputs": [
    {
     "data": {
      "text/plain": [
       "0.9828318407780001"
      ]
     },
     "execution_count": 14,
     "metadata": {},
     "output_type": "execute_result"
    }
   ],
   "source": [
    "train_pred=randomModel.predict(X_train)\n",
    "accuracy_score(y_train,train_pred)"
   ]
  },
  {
   "cell_type": "code",
   "execution_count": 15,
   "id": "46b1a1ef-b312-44a9-ad7b-414f6a44899d",
   "metadata": {},
   "outputs": [
    {
     "data": {
      "text/plain": [
       "0.9838102136906918"
      ]
     },
     "execution_count": 15,
     "metadata": {},
     "output_type": "execute_result"
    }
   ],
   "source": [
    "prediction=randomModel.predict(X_test)\n",
    "accuracy_score(y_test,prediction)"
   ]
  },
  {
   "cell_type": "code",
   "execution_count": 16,
   "id": "c53e81b8-2e7c-49c2-962c-a3d453590220",
   "metadata": {},
   "outputs": [
    {
     "data": {
      "text/plain": [
       "0.9730933606212002"
      ]
     },
     "execution_count": 16,
     "metadata": {},
     "output_type": "execute_result"
    }
   ],
   "source": [
    "f1_score(y_test,prediction)"
   ]
  },
  {
   "cell_type": "code",
   "execution_count": 17,
   "id": "6dbbe091-1158-4c51-ab15-8e6313cdfdbe",
   "metadata": {},
   "outputs": [],
   "source": [
    "import joblib"
   ]
  },
  {
   "cell_type": "code",
   "execution_count": 18,
   "id": "c763fad7-2bef-4481-a479-b73d926ce359",
   "metadata": {},
   "outputs": [
    {
     "data": {
      "text/plain": [
       "['random_forest_model.joblib']"
      ]
     },
     "execution_count": 18,
     "metadata": {},
     "output_type": "execute_result"
    }
   ],
   "source": [
    "joblib.dump(randomModel, 'random_forest_model.joblib')"
   ]
  },
  {
   "cell_type": "code",
   "execution_count": 19,
   "id": "b3aea42e-3098-4901-b50c-983aee4d1657",
   "metadata": {},
   "outputs": [
    {
     "name": "stderr",
     "output_type": "stream",
     "text": [
      "/home/joel/.local/lib/python3.10/site-packages/sklearn/linear_model/_logistic.py:469: ConvergenceWarning: lbfgs failed to converge (status=1):\n",
      "STOP: TOTAL NO. of ITERATIONS REACHED LIMIT.\n",
      "\n",
      "Increase the number of iterations (max_iter) or scale the data as shown in:\n",
      "    https://scikit-learn.org/stable/modules/preprocessing.html\n",
      "Please also refer to the documentation for alternative solver options:\n",
      "    https://scikit-learn.org/stable/modules/linear_model.html#logistic-regression\n",
      "  n_iter_i = _check_optimize_result(\n"
     ]
    }
   ],
   "source": [
    "from sklearn.datasets import load_iris\n",
    "from sklearn.linear_model import LogisticRegression\n",
    "\n",
    "clf = LogisticRegression(random_state=0)\n",
    "logModel = clf.fit(X_train,y_train)"
   ]
  },
  {
   "cell_type": "code",
   "execution_count": 20,
   "id": "b286f0b1-ab02-4a0d-91fe-d02e99bf4190",
   "metadata": {},
   "outputs": [
    {
     "data": {
      "text/plain": [
       "0.9277506632740838"
      ]
     },
     "execution_count": 20,
     "metadata": {},
     "output_type": "execute_result"
    }
   ],
   "source": [
    "train_log = logModel.predict(X_train)\n",
    "accuracy_score(y_train,train_log)"
   ]
  },
  {
   "cell_type": "code",
   "execution_count": 21,
   "id": "e3ee9076-0a91-4fee-b203-1185f3a050e2",
   "metadata": {},
   "outputs": [
    {
     "data": {
      "text/plain": [
       "0.92854038391887"
      ]
     },
     "execution_count": 21,
     "metadata": {},
     "output_type": "execute_result"
    }
   ],
   "source": [
    "pred = logModel.predict(X_test)\n",
    "accuracy_score(y_test,pred)"
   ]
  },
  {
   "cell_type": "code",
   "execution_count": 22,
   "id": "187acde0-fa38-4e61-836e-87206b95ddda",
   "metadata": {},
   "outputs": [
    {
     "data": {
      "text/plain": [
       "0.868106156828665"
      ]
     },
     "execution_count": 22,
     "metadata": {},
     "output_type": "execute_result"
    }
   ],
   "source": [
    "f1_score(y_test,pred)"
   ]
  },
  {
   "cell_type": "code",
   "execution_count": 23,
   "id": "2ee11868-c12c-4242-ae18-6fa6a150ab41",
   "metadata": {},
   "outputs": [
    {
     "data": {
      "text/plain": [
       "['logistic_regression_model.joblib']"
      ]
     },
     "execution_count": 23,
     "metadata": {},
     "output_type": "execute_result"
    }
   ],
   "source": [
    "joblib.dump(logModel,'logistic_regression_model.joblib')"
   ]
  },
  {
   "cell_type": "code",
   "execution_count": 31,
   "id": "3c8de2e5-d68a-403d-83cb-e9dacf1bde34",
   "metadata": {},
   "outputs": [],
   "source": [
    "import tensorflow as tf\n",
    "from tensorflow.keras.models import Sequential\n",
    "from tensorflow.keras.layers import Dense\n",
    "import optuna"
   ]
  },
  {
   "cell_type": "code",
   "execution_count": 32,
   "id": "d0a9d66e-295a-4d5e-a857-17aafefd7778",
   "metadata": {},
   "outputs": [
    {
     "data": {
      "text/html": [
       "<pre style=\"white-space:pre;overflow-x:auto;line-height:normal;font-family:Menlo,'DejaVu Sans Mono',consolas,'Courier New',monospace\"><span style=\"font-weight: bold\">Model: \"sequential_12\"</span>\n",
       "</pre>\n"
      ],
      "text/plain": [
       "\u001b[1mModel: \"sequential_12\"\u001b[0m\n"
      ]
     },
     "metadata": {},
     "output_type": "display_data"
    },
    {
     "data": {
      "text/html": [
       "<pre style=\"white-space:pre;overflow-x:auto;line-height:normal;font-family:Menlo,'DejaVu Sans Mono',consolas,'Courier New',monospace\">┏━━━━━━━━━━━━━━━━━━━━━━━━━━━━━━━━━┳━━━━━━━━━━━━━━━━━━━━━━━━┳━━━━━━━━━━━━━━━┓\n",
       "┃<span style=\"font-weight: bold\"> Layer (type)                    </span>┃<span style=\"font-weight: bold\"> Output Shape           </span>┃<span style=\"font-weight: bold\">       Param # </span>┃\n",
       "┡━━━━━━━━━━━━━━━━━━━━━━━━━━━━━━━━━╇━━━━━━━━━━━━━━━━━━━━━━━━╇━━━━━━━━━━━━━━━┩\n",
       "│ dense_38 (<span style=\"color: #0087ff; text-decoration-color: #0087ff\">Dense</span>)                │ (<span style=\"color: #00d7ff; text-decoration-color: #00d7ff\">None</span>, <span style=\"color: #00af00; text-decoration-color: #00af00\">37</span>)             │         <span style=\"color: #00af00; text-decoration-color: #00af00\">2,035</span> │\n",
       "├─────────────────────────────────┼────────────────────────┼───────────────┤\n",
       "│ dense_39 (<span style=\"color: #0087ff; text-decoration-color: #0087ff\">Dense</span>)                │ (<span style=\"color: #00d7ff; text-decoration-color: #00d7ff\">None</span>, <span style=\"color: #00af00; text-decoration-color: #00af00\">48</span>)             │         <span style=\"color: #00af00; text-decoration-color: #00af00\">1,824</span> │\n",
       "├─────────────────────────────────┼────────────────────────┼───────────────┤\n",
       "│ dense_40 (<span style=\"color: #0087ff; text-decoration-color: #0087ff\">Dense</span>)                │ (<span style=\"color: #00d7ff; text-decoration-color: #00d7ff\">None</span>, <span style=\"color: #00af00; text-decoration-color: #00af00\">1</span>)              │            <span style=\"color: #00af00; text-decoration-color: #00af00\">49</span> │\n",
       "└─────────────────────────────────┴────────────────────────┴───────────────┘\n",
       "</pre>\n"
      ],
      "text/plain": [
       "┏━━━━━━━━━━━━━━━━━━━━━━━━━━━━━━━━━┳━━━━━━━━━━━━━━━━━━━━━━━━┳━━━━━━━━━━━━━━━┓\n",
       "┃\u001b[1m \u001b[0m\u001b[1mLayer (type)                   \u001b[0m\u001b[1m \u001b[0m┃\u001b[1m \u001b[0m\u001b[1mOutput Shape          \u001b[0m\u001b[1m \u001b[0m┃\u001b[1m \u001b[0m\u001b[1m      Param #\u001b[0m\u001b[1m \u001b[0m┃\n",
       "┡━━━━━━━━━━━━━━━━━━━━━━━━━━━━━━━━━╇━━━━━━━━━━━━━━━━━━━━━━━━╇━━━━━━━━━━━━━━━┩\n",
       "│ dense_38 (\u001b[38;5;33mDense\u001b[0m)                │ (\u001b[38;5;45mNone\u001b[0m, \u001b[38;5;34m37\u001b[0m)             │         \u001b[38;5;34m2,035\u001b[0m │\n",
       "├─────────────────────────────────┼────────────────────────┼───────────────┤\n",
       "│ dense_39 (\u001b[38;5;33mDense\u001b[0m)                │ (\u001b[38;5;45mNone\u001b[0m, \u001b[38;5;34m48\u001b[0m)             │         \u001b[38;5;34m1,824\u001b[0m │\n",
       "├─────────────────────────────────┼────────────────────────┼───────────────┤\n",
       "│ dense_40 (\u001b[38;5;33mDense\u001b[0m)                │ (\u001b[38;5;45mNone\u001b[0m, \u001b[38;5;34m1\u001b[0m)              │            \u001b[38;5;34m49\u001b[0m │\n",
       "└─────────────────────────────────┴────────────────────────┴───────────────┘\n"
      ]
     },
     "metadata": {},
     "output_type": "display_data"
    },
    {
     "data": {
      "text/html": [
       "<pre style=\"white-space:pre;overflow-x:auto;line-height:normal;font-family:Menlo,'DejaVu Sans Mono',consolas,'Courier New',monospace\"><span style=\"font-weight: bold\"> Total params: </span><span style=\"color: #00af00; text-decoration-color: #00af00\">3,908</span> (15.27 KB)\n",
       "</pre>\n"
      ],
      "text/plain": [
       "\u001b[1m Total params: \u001b[0m\u001b[38;5;34m3,908\u001b[0m (15.27 KB)\n"
      ]
     },
     "metadata": {},
     "output_type": "display_data"
    },
    {
     "data": {
      "text/html": [
       "<pre style=\"white-space:pre;overflow-x:auto;line-height:normal;font-family:Menlo,'DejaVu Sans Mono',consolas,'Courier New',monospace\"><span style=\"font-weight: bold\"> Trainable params: </span><span style=\"color: #00af00; text-decoration-color: #00af00\">3,908</span> (15.27 KB)\n",
       "</pre>\n"
      ],
      "text/plain": [
       "\u001b[1m Trainable params: \u001b[0m\u001b[38;5;34m3,908\u001b[0m (15.27 KB)\n"
      ]
     },
     "metadata": {},
     "output_type": "display_data"
    },
    {
     "data": {
      "text/html": [
       "<pre style=\"white-space:pre;overflow-x:auto;line-height:normal;font-family:Menlo,'DejaVu Sans Mono',consolas,'Courier New',monospace\"><span style=\"font-weight: bold\"> Non-trainable params: </span><span style=\"color: #00af00; text-decoration-color: #00af00\">0</span> (0.00 B)\n",
       "</pre>\n"
      ],
      "text/plain": [
       "\u001b[1m Non-trainable params: \u001b[0m\u001b[38;5;34m0\u001b[0m (0.00 B)\n"
      ]
     },
     "metadata": {},
     "output_type": "display_data"
    }
   ],
   "source": [
    "model = Sequential()\n",
    "model.add(Dense(37, input_dim=54, activation=\"relu\"))  # First layer with 37 units\n",
    "model.add(Dense(48, activation=\"relu\"))  # Second layer with 48 units\n",
    "model.add(Dense(1, activation=\"sigmoid\"))  # Output layer\n",
    "model.summary()"
   ]
  },
  {
   "cell_type": "code",
   "execution_count": 33,
   "id": "b6f400ee-671f-45ec-ac24-ed161faaa4f5",
   "metadata": {},
   "outputs": [],
   "source": [
    "optimizer = tf.keras.optimizers.RMSprop(learning_rate=0.0005540595053452941)\n",
    "model.compile(loss=\"binary_crossentropy\", optimizer=optimizer, metrics=[\"accuracy\"])"
   ]
  },
  {
   "cell_type": "code",
   "execution_count": 27,
   "id": "9d88686a-f08e-406b-95fc-c8d5915861f1",
   "metadata": {},
   "outputs": [],
   "source": []
  },
  {
   "cell_type": "code",
   "execution_count": 28,
   "id": "b5b4529c-6536-438e-8f3c-364395d85b50",
   "metadata": {},
   "outputs": [
    {
     "name": "stderr",
     "output_type": "stream",
     "text": [
      "[I 2024-04-28 23:27:50,250] A new study created in memory with name: no-name-5d8fd3ee-2462-456b-9458-8d41ae41e242\n",
      "/tmp/ipykernel_38015/1799365792.py:5: FutureWarning: suggest_loguniform has been deprecated in v3.0.0. This feature will be removed in v6.0.0. See https://github.com/optuna/optuna/releases/tag/v3.0.0. Use suggest_float(..., log=True) instead.\n",
      "  learning_rate = trial.suggest_loguniform('learning_rate', 1e-5, 1e-1)\n",
      "/home/joel/.local/lib/python3.10/site-packages/keras/src/layers/core/dense.py:87: UserWarning: Do not pass an `input_shape`/`input_dim` argument to a layer. When using Sequential models, prefer using an `Input(shape)` object as the first layer in the model instead.\n",
      "  super().__init__(activity_regularizer=activity_regularizer, **kwargs)\n",
      "[I 2024-04-28 23:29:13,285] Trial 0 finished with value: 0.6971749663352966 and parameters: {'num_layers': 3, 'n_units_l0': 18, 'n_units_l1': 15, 'n_units_l2': 30, 'learning_rate': 0.0030268888087159576}. Best is trial 0 with value: 0.6971749663352966.\n",
      "/tmp/ipykernel_38015/1799365792.py:5: FutureWarning: suggest_loguniform has been deprecated in v3.0.0. This feature will be removed in v6.0.0. See https://github.com/optuna/optuna/releases/tag/v3.0.0. Use suggest_float(..., log=True) instead.\n",
      "  learning_rate = trial.suggest_loguniform('learning_rate', 1e-5, 1e-1)\n",
      "/home/joel/.local/lib/python3.10/site-packages/keras/src/layers/core/dense.py:87: UserWarning: Do not pass an `input_shape`/`input_dim` argument to a layer. When using Sequential models, prefer using an `Input(shape)` object as the first layer in the model instead.\n",
      "  super().__init__(activity_regularizer=activity_regularizer, **kwargs)\n"
     ]
    },
    {
     "name": "stdout",
     "output_type": "stream",
     "text": [
      "Finished trial 0 with value: 0.6971749663352966 and parameters: {'num_layers': 3, 'n_units_l0': 18, 'n_units_l1': 15, 'n_units_l2': 30, 'learning_rate': 0.0030268888087159576}.\n",
      "Best value so far: 0.6971749663352966\n"
     ]
    },
    {
     "name": "stderr",
     "output_type": "stream",
     "text": [
      "[I 2024-04-28 23:30:32,101] Trial 1 finished with value: 0.6975008845329285 and parameters: {'num_layers': 2, 'n_units_l0': 13, 'n_units_l1': 45, 'learning_rate': 0.0009525412135014212}. Best is trial 1 with value: 0.6975008845329285.\n",
      "/tmp/ipykernel_38015/1799365792.py:5: FutureWarning: suggest_loguniform has been deprecated in v3.0.0. This feature will be removed in v6.0.0. See https://github.com/optuna/optuna/releases/tag/v3.0.0. Use suggest_float(..., log=True) instead.\n",
      "  learning_rate = trial.suggest_loguniform('learning_rate', 1e-5, 1e-1)\n",
      "/home/joel/.local/lib/python3.10/site-packages/keras/src/layers/core/dense.py:87: UserWarning: Do not pass an `input_shape`/`input_dim` argument to a layer. When using Sequential models, prefer using an `Input(shape)` object as the first layer in the model instead.\n",
      "  super().__init__(activity_regularizer=activity_regularizer, **kwargs)\n"
     ]
    },
    {
     "name": "stdout",
     "output_type": "stream",
     "text": [
      "Finished trial 1 with value: 0.6975008845329285 and parameters: {'num_layers': 2, 'n_units_l0': 13, 'n_units_l1': 45, 'learning_rate': 0.0009525412135014212}.\n",
      "Best value so far: 0.6975008845329285\n"
     ]
    },
    {
     "name": "stderr",
     "output_type": "stream",
     "text": [
      "[I 2024-04-28 23:31:44,878] Trial 2 finished with value: 0.9699746370315552 and parameters: {'num_layers': 2, 'n_units_l0': 45, 'n_units_l1': 29, 'learning_rate': 0.0003888339786683701}. Best is trial 2 with value: 0.9699746370315552.\n",
      "/tmp/ipykernel_38015/1799365792.py:5: FutureWarning: suggest_loguniform has been deprecated in v3.0.0. This feature will be removed in v6.0.0. See https://github.com/optuna/optuna/releases/tag/v3.0.0. Use suggest_float(..., log=True) instead.\n",
      "  learning_rate = trial.suggest_loguniform('learning_rate', 1e-5, 1e-1)\n",
      "/home/joel/.local/lib/python3.10/site-packages/keras/src/layers/core/dense.py:87: UserWarning: Do not pass an `input_shape`/`input_dim` argument to a layer. When using Sequential models, prefer using an `Input(shape)` object as the first layer in the model instead.\n",
      "  super().__init__(activity_regularizer=activity_regularizer, **kwargs)\n"
     ]
    },
    {
     "name": "stdout",
     "output_type": "stream",
     "text": [
      "Finished trial 2 with value: 0.9699746370315552 and parameters: {'num_layers': 2, 'n_units_l0': 45, 'n_units_l1': 29, 'learning_rate': 0.0003888339786683701}.\n",
      "Best value so far: 0.9699746370315552\n"
     ]
    },
    {
     "name": "stderr",
     "output_type": "stream",
     "text": [
      "[I 2024-04-28 23:33:03,578] Trial 3 finished with value: 0.6972111463546753 and parameters: {'num_layers': 2, 'n_units_l0': 18, 'n_units_l1': 9, 'learning_rate': 0.02055918191250849}. Best is trial 2 with value: 0.9699746370315552.\n",
      "/tmp/ipykernel_38015/1799365792.py:5: FutureWarning: suggest_loguniform has been deprecated in v3.0.0. This feature will be removed in v6.0.0. See https://github.com/optuna/optuna/releases/tag/v3.0.0. Use suggest_float(..., log=True) instead.\n",
      "  learning_rate = trial.suggest_loguniform('learning_rate', 1e-5, 1e-1)\n",
      "/home/joel/.local/lib/python3.10/site-packages/keras/src/layers/core/dense.py:87: UserWarning: Do not pass an `input_shape`/`input_dim` argument to a layer. When using Sequential models, prefer using an `Input(shape)` object as the first layer in the model instead.\n",
      "  super().__init__(activity_regularizer=activity_regularizer, **kwargs)\n"
     ]
    },
    {
     "name": "stdout",
     "output_type": "stream",
     "text": [
      "Finished trial 3 with value: 0.6972111463546753 and parameters: {'num_layers': 2, 'n_units_l0': 18, 'n_units_l1': 9, 'learning_rate': 0.02055918191250849}.\n",
      "Best value so far: 0.9699746370315552\n"
     ]
    },
    {
     "name": "stderr",
     "output_type": "stream",
     "text": [
      "[I 2024-04-28 23:34:28,447] Trial 4 finished with value: 0.9740311503410339 and parameters: {'num_layers': 2, 'n_units_l0': 37, 'n_units_l1': 48, 'learning_rate': 0.0005540595053452941}. Best is trial 4 with value: 0.9740311503410339.\n",
      "/tmp/ipykernel_38015/1799365792.py:5: FutureWarning: suggest_loguniform has been deprecated in v3.0.0. This feature will be removed in v6.0.0. See https://github.com/optuna/optuna/releases/tag/v3.0.0. Use suggest_float(..., log=True) instead.\n",
      "  learning_rate = trial.suggest_loguniform('learning_rate', 1e-5, 1e-1)\n",
      "/home/joel/.local/lib/python3.10/site-packages/keras/src/layers/core/dense.py:87: UserWarning: Do not pass an `input_shape`/`input_dim` argument to a layer. When using Sequential models, prefer using an `Input(shape)` object as the first layer in the model instead.\n",
      "  super().__init__(activity_regularizer=activity_regularizer, **kwargs)\n"
     ]
    },
    {
     "name": "stdout",
     "output_type": "stream",
     "text": [
      "Finished trial 4 with value: 0.9740311503410339 and parameters: {'num_layers': 2, 'n_units_l0': 37, 'n_units_l1': 48, 'learning_rate': 0.0005540595053452941}.\n",
      "Best value so far: 0.9740311503410339\n"
     ]
    },
    {
     "name": "stderr",
     "output_type": "stream",
     "text": [
      "[I 2024-04-28 23:35:56,240] Trial 5 finished with value: 0.9705541729927063 and parameters: {'num_layers': 3, 'n_units_l0': 34, 'n_units_l1': 38, 'n_units_l2': 32, 'learning_rate': 2.5844339539804454e-05}. Best is trial 4 with value: 0.9740311503410339.\n",
      "/tmp/ipykernel_38015/1799365792.py:5: FutureWarning: suggest_loguniform has been deprecated in v3.0.0. This feature will be removed in v6.0.0. See https://github.com/optuna/optuna/releases/tag/v3.0.0. Use suggest_float(..., log=True) instead.\n",
      "  learning_rate = trial.suggest_loguniform('learning_rate', 1e-5, 1e-1)\n",
      "/home/joel/.local/lib/python3.10/site-packages/keras/src/layers/core/dense.py:87: UserWarning: Do not pass an `input_shape`/`input_dim` argument to a layer. When using Sequential models, prefer using an `Input(shape)` object as the first layer in the model instead.\n",
      "  super().__init__(activity_regularizer=activity_regularizer, **kwargs)\n"
     ]
    },
    {
     "name": "stdout",
     "output_type": "stream",
     "text": [
      "Finished trial 5 with value: 0.9705541729927063 and parameters: {'num_layers': 3, 'n_units_l0': 34, 'n_units_l1': 38, 'n_units_l2': 32, 'learning_rate': 2.5844339539804454e-05}.\n",
      "Best value so far: 0.9740311503410339\n"
     ]
    },
    {
     "name": "stderr",
     "output_type": "stream",
     "text": [
      "[I 2024-04-28 23:37:04,908] Trial 6 finished with value: 0.6973560452461243 and parameters: {'num_layers': 1, 'n_units_l0': 46, 'learning_rate': 0.028754518222018775}. Best is trial 4 with value: 0.9740311503410339.\n",
      "/tmp/ipykernel_38015/1799365792.py:5: FutureWarning: suggest_loguniform has been deprecated in v3.0.0. This feature will be removed in v6.0.0. See https://github.com/optuna/optuna/releases/tag/v3.0.0. Use suggest_float(..., log=True) instead.\n",
      "  learning_rate = trial.suggest_loguniform('learning_rate', 1e-5, 1e-1)\n",
      "/home/joel/.local/lib/python3.10/site-packages/keras/src/layers/core/dense.py:87: UserWarning: Do not pass an `input_shape`/`input_dim` argument to a layer. When using Sequential models, prefer using an `Input(shape)` object as the first layer in the model instead.\n",
      "  super().__init__(activity_regularizer=activity_regularizer, **kwargs)\n"
     ]
    },
    {
     "name": "stdout",
     "output_type": "stream",
     "text": [
      "Finished trial 6 with value: 0.6973560452461243 and parameters: {'num_layers': 1, 'n_units_l0': 46, 'learning_rate': 0.028754518222018775}.\n",
      "Best value so far: 0.9740311503410339\n"
     ]
    },
    {
     "name": "stderr",
     "output_type": "stream",
     "text": [
      "[I 2024-04-28 23:38:20,355] Trial 7 finished with value: 0.6972111463546753 and parameters: {'num_layers': 2, 'n_units_l0': 52, 'n_units_l1': 44, 'learning_rate': 0.06348222127646708}. Best is trial 4 with value: 0.9740311503410339.\n",
      "/tmp/ipykernel_38015/1799365792.py:5: FutureWarning: suggest_loguniform has been deprecated in v3.0.0. This feature will be removed in v6.0.0. See https://github.com/optuna/optuna/releases/tag/v3.0.0. Use suggest_float(..., log=True) instead.\n",
      "  learning_rate = trial.suggest_loguniform('learning_rate', 1e-5, 1e-1)\n",
      "/home/joel/.local/lib/python3.10/site-packages/keras/src/layers/core/dense.py:87: UserWarning: Do not pass an `input_shape`/`input_dim` argument to a layer. When using Sequential models, prefer using an `Input(shape)` object as the first layer in the model instead.\n",
      "  super().__init__(activity_regularizer=activity_regularizer, **kwargs)\n"
     ]
    },
    {
     "name": "stdout",
     "output_type": "stream",
     "text": [
      "Finished trial 7 with value: 0.6972111463546753 and parameters: {'num_layers': 2, 'n_units_l0': 52, 'n_units_l1': 44, 'learning_rate': 0.06348222127646708}.\n",
      "Best value so far: 0.9740311503410339\n"
     ]
    },
    {
     "name": "stderr",
     "output_type": "stream",
     "text": [
      "[I 2024-04-28 23:39:46,474] Trial 8 finished with value: 0.6972111463546753 and parameters: {'num_layers': 3, 'n_units_l0': 26, 'n_units_l1': 41, 'n_units_l2': 25, 'learning_rate': 0.024164836884667414}. Best is trial 4 with value: 0.9740311503410339.\n",
      "/tmp/ipykernel_38015/1799365792.py:5: FutureWarning: suggest_loguniform has been deprecated in v3.0.0. This feature will be removed in v6.0.0. See https://github.com/optuna/optuna/releases/tag/v3.0.0. Use suggest_float(..., log=True) instead.\n",
      "  learning_rate = trial.suggest_loguniform('learning_rate', 1e-5, 1e-1)\n",
      "/home/joel/.local/lib/python3.10/site-packages/keras/src/layers/core/dense.py:87: UserWarning: Do not pass an `input_shape`/`input_dim` argument to a layer. When using Sequential models, prefer using an `Input(shape)` object as the first layer in the model instead.\n",
      "  super().__init__(activity_regularizer=activity_regularizer, **kwargs)\n"
     ]
    },
    {
     "name": "stdout",
     "output_type": "stream",
     "text": [
      "Finished trial 8 with value: 0.6972111463546753 and parameters: {'num_layers': 3, 'n_units_l0': 26, 'n_units_l1': 41, 'n_units_l2': 25, 'learning_rate': 0.024164836884667414}.\n",
      "Best value so far: 0.9740311503410339\n"
     ]
    },
    {
     "name": "stderr",
     "output_type": "stream",
     "text": [
      "[I 2024-04-28 23:40:55,799] Trial 9 finished with value: 0.6972111463546753 and parameters: {'num_layers': 1, 'n_units_l0': 4, 'learning_rate': 2.7481625760548247e-05}. Best is trial 4 with value: 0.9740311503410339.\n"
     ]
    },
    {
     "name": "stdout",
     "output_type": "stream",
     "text": [
      "Finished trial 9 with value: 0.6972111463546753 and parameters: {'num_layers': 1, 'n_units_l0': 4, 'learning_rate': 2.7481625760548247e-05}.\n",
      "Best value so far: 0.9740311503410339\n",
      "Best trial:\n",
      "  Value:  0.9740311503410339\n",
      "  Params: \n",
      "    num_layers: 2\n",
      "    n_units_l0: 37\n",
      "    n_units_l1: 48\n",
      "    learning_rate: 0.0005540595053452941\n"
     ]
    }
   ],
   "source": [
    "def objective(trial):\n",
    "    # Hyperparameters to tune\n",
    "    num_layers = trial.suggest_int('num_layers', 1, 3)\n",
    "    units = [trial.suggest_int('n_units_l{}'.format(i), 4, 64) for i in range(num_layers)]\n",
    "    learning_rate = trial.suggest_loguniform('learning_rate', 1e-5, 1e-1)\n",
    "    \n",
    "    # Model construction\n",
    "    model = Sequential()\n",
    "    model.add(Dense(units[0], input_dim=54, activation=\"relu\"))\n",
    "    for i in range(1, num_layers):\n",
    "        model.add(Dense(units[i], activation=\"relu\"))\n",
    "    model.add(Dense(1, activation=\"sigmoid\"))\n",
    "    \n",
    "    # Model compilation\n",
    "    optimizer = tf.keras.optimizers.RMSprop(learning_rate=learning_rate)\n",
    "    model.compile(loss=\"binary_crossentropy\", optimizer=optimizer, metrics=[\"accuracy\"])\n",
    "    \n",
    "    # Model training\n",
    "    model.fit(X_train, y_train, epochs=20, batch_size=32, verbose=0, validation_split=0.2)\n",
    "    \n",
    "    # Evaluation\n",
    "    loss, accuracy = model.evaluate(X_test, y_test, verbose=0)\n",
    "    return accuracy  # or return loss to minimize loss\n",
    "\n",
    "def print_status(study, trial):\n",
    "    print(f\"Finished trial {trial.number} with value: {trial.value} and parameters: {trial.params}.\")\n",
    "    print(f\"Best value so far: {study.best_value}\")\n",
    "\n",
    "# Create a study object\n",
    "study = optuna.create_study(direction='maximize')\n",
    "study.optimize(objective, n_trials=10, callbacks=[print_status])\n",
    "\n",
    "# Print the best trial information\n",
    "print(\"Best trial:\")\n",
    "print(\"  Value: \", study.best_trial.value)\n",
    "print(\"  Params: \")\n",
    "for key, value in study.best_trial.params.items():\n",
    "    print(f\"    {key}: {value}\")"
   ]
  },
  {
   "cell_type": "code",
   "execution_count": 35,
   "id": "16810a4c-833e-49d5-bdb5-5268952011d3",
   "metadata": {},
   "outputs": [
    {
     "name": "stdout",
     "output_type": "stream",
     "text": [
      "Epoch 1/20\n",
      "\u001b[1m3452/3452\u001b[0m \u001b[32m━━━━━━━━━━━━━━━━━━━━\u001b[0m\u001b[37m\u001b[0m \u001b[1m4s\u001b[0m 1ms/step - accuracy: 0.9596 - loss: 2976826.5000\n",
      "Epoch 2/20\n",
      "\u001b[1m3452/3452\u001b[0m \u001b[32m━━━━━━━━━━━━━━━━━━━━\u001b[0m\u001b[37m\u001b[0m \u001b[1m3s\u001b[0m 978us/step - accuracy: 0.9593 - loss: 1677103.0000\n",
      "Epoch 3/20\n",
      "\u001b[1m3452/3452\u001b[0m \u001b[32m━━━━━━━━━━━━━━━━━━━━\u001b[0m\u001b[37m\u001b[0m \u001b[1m3s\u001b[0m 964us/step - accuracy: 0.9549 - loss: 1428419.5000\n",
      "Epoch 4/20\n",
      "\u001b[1m3452/3452\u001b[0m \u001b[32m━━━━━━━━━━━━━━━━━━━━\u001b[0m\u001b[37m\u001b[0m \u001b[1m4s\u001b[0m 1ms/step - accuracy: 0.9537 - loss: 1712404.7500\n",
      "Epoch 5/20\n",
      "\u001b[1m3452/3452\u001b[0m \u001b[32m━━━━━━━━━━━━━━━━━━━━\u001b[0m\u001b[37m\u001b[0m \u001b[1m4s\u001b[0m 1ms/step - accuracy: 0.9547 - loss: 180719.4375\n",
      "Epoch 6/20\n",
      "\u001b[1m3452/3452\u001b[0m \u001b[32m━━━━━━━━━━━━━━━━━━━━\u001b[0m\u001b[37m\u001b[0m \u001b[1m4s\u001b[0m 1ms/step - accuracy: 0.9643 - loss: 3895335.7500\n",
      "Epoch 7/20\n",
      "\u001b[1m3452/3452\u001b[0m \u001b[32m━━━━━━━━━━━━━━━━━━━━\u001b[0m\u001b[37m\u001b[0m \u001b[1m4s\u001b[0m 1ms/step - accuracy: 0.9615 - loss: 5207793.5000\n",
      "Epoch 8/20\n",
      "\u001b[1m3452/3452\u001b[0m \u001b[32m━━━━━━━━━━━━━━━━━━━━\u001b[0m\u001b[37m\u001b[0m \u001b[1m4s\u001b[0m 1ms/step - accuracy: 0.9582 - loss: 2622976.2500\n",
      "Epoch 9/20\n",
      "\u001b[1m3452/3452\u001b[0m \u001b[32m━━━━━━━━━━━━━━━━━━━━\u001b[0m\u001b[37m\u001b[0m \u001b[1m4s\u001b[0m 1ms/step - accuracy: 0.9612 - loss: 3120608.5000\n",
      "Epoch 10/20\n",
      "\u001b[1m3452/3452\u001b[0m \u001b[32m━━━━━━━━━━━━━━━━━━━━\u001b[0m\u001b[37m\u001b[0m \u001b[1m4s\u001b[0m 1ms/step - accuracy: 0.9579 - loss: 2942044.2500\n",
      "Epoch 11/20\n",
      "\u001b[1m3452/3452\u001b[0m \u001b[32m━━━━━━━━━━━━━━━━━━━━\u001b[0m\u001b[37m\u001b[0m \u001b[1m4s\u001b[0m 1ms/step - accuracy: 0.9590 - loss: 3785513.5000\n",
      "Epoch 12/20\n",
      "\u001b[1m3452/3452\u001b[0m \u001b[32m━━━━━━━━━━━━━━━━━━━━\u001b[0m\u001b[37m\u001b[0m \u001b[1m4s\u001b[0m 1ms/step - accuracy: 0.9579 - loss: 1042292.9375\n",
      "Epoch 13/20\n",
      "\u001b[1m3452/3452\u001b[0m \u001b[32m━━━━━━━━━━━━━━━━━━━━\u001b[0m\u001b[37m\u001b[0m \u001b[1m4s\u001b[0m 1ms/step - accuracy: 0.9532 - loss: 469703.8125\n",
      "Epoch 14/20\n",
      "\u001b[1m3452/3452\u001b[0m \u001b[32m━━━━━━━━━━━━━━━━━━━━\u001b[0m\u001b[37m\u001b[0m \u001b[1m4s\u001b[0m 1ms/step - accuracy: 0.9568 - loss: 440838.2188\n",
      "Epoch 15/20\n",
      "\u001b[1m3452/3452\u001b[0m \u001b[32m━━━━━━━━━━━━━━━━━━━━\u001b[0m\u001b[37m\u001b[0m \u001b[1m5s\u001b[0m 1ms/step - accuracy: 0.9569 - loss: 457876.5312\n",
      "Epoch 16/20\n",
      "\u001b[1m3452/3452\u001b[0m \u001b[32m━━━━━━━━━━━━━━━━━━━━\u001b[0m\u001b[37m\u001b[0m \u001b[1m4s\u001b[0m 1ms/step - accuracy: 0.9550 - loss: 181186.8438\n",
      "Epoch 17/20\n",
      "\u001b[1m3452/3452\u001b[0m \u001b[32m━━━━━━━━━━━━━━━━━━━━\u001b[0m\u001b[37m\u001b[0m \u001b[1m4s\u001b[0m 1ms/step - accuracy: 0.9532 - loss: 212873.4375\n",
      "Epoch 18/20\n",
      "\u001b[1m3452/3452\u001b[0m \u001b[32m━━━━━━━━━━━━━━━━━━━━\u001b[0m\u001b[37m\u001b[0m \u001b[1m4s\u001b[0m 1ms/step - accuracy: 0.9556 - loss: 26666.9688\n",
      "Epoch 19/20\n",
      "\u001b[1m3452/3452\u001b[0m \u001b[32m━━━━━━━━━━━━━━━━━━━━\u001b[0m\u001b[37m\u001b[0m \u001b[1m4s\u001b[0m 1ms/step - accuracy: 0.8863 - loss: 3947.7625\n",
      "Epoch 20/20\n",
      "\u001b[1m3452/3452\u001b[0m \u001b[32m━━━━━━━━━━━━━━━━━━━━\u001b[0m\u001b[37m\u001b[0m \u001b[1m4s\u001b[0m 1ms/step - accuracy: 0.9641 - loss: 8095.8330\n"
     ]
    },
    {
     "name": "stderr",
     "output_type": "stream",
     "text": [
      "WARNING:absl:You are saving your model as an HDF5 file via `model.save()` or `keras.saving.save_model(model)`. This file format is considered legacy. We recommend using instead the native Keras format, e.g. `model.save('my_model.keras')` or `keras.saving.save_model(model, 'my_model.keras')`. \n"
     ]
    }
   ],
   "source": [
    "model.fit(X_train,y_train,epochs=20,batch_size=32)\n",
    "model.save('my_keras_model.h5')"
   ]
  },
  {
   "cell_type": "code",
   "execution_count": 38,
   "id": "bc0cf732-0f5f-43dc-8b6f-9b06950432a0",
   "metadata": {},
   "outputs": [
    {
     "name": "stdout",
     "output_type": "stream",
     "text": [
      "\u001b[1m3452/3452\u001b[0m \u001b[32m━━━━━━━━━━━━━━━━━━━━\u001b[0m\u001b[37m\u001b[0m \u001b[1m2s\u001b[0m 557us/step\n"
     ]
    },
    {
     "data": {
      "text/plain": [
       "0.9801606345699359"
      ]
     },
     "execution_count": 38,
     "metadata": {},
     "output_type": "execute_result"
    }
   ],
   "source": [
    "trainPred = model.predict(X_train)\n",
    "trainPred = [1 if y >=0.5 else 0 for y in trainPred]\n",
    "accuracy_score(y_train,trainPred)"
   ]
  },
  {
   "cell_type": "code",
   "execution_count": 39,
   "id": "8e69d0a7-3f87-46d1-a02c-e1b5a29a1156",
   "metadata": {},
   "outputs": [
    {
     "name": "stdout",
     "output_type": "stream",
     "text": [
      "\u001b[1m863/863\u001b[0m \u001b[32m━━━━━━━━━━━━━━━━━━━━\u001b[0m\u001b[37m\u001b[0m \u001b[1m0s\u001b[0m 514us/step\n"
     ]
    },
    {
     "data": {
      "text/plain": [
       "0.9800796812749004"
      ]
     },
     "execution_count": 39,
     "metadata": {},
     "output_type": "execute_result"
    }
   ],
   "source": [
    "y_predicition=model.predict(X_test)\n",
    "y_predicition=[1 if y >=0.5 else 0 for y in y_predicition]\n",
    "accuracy_score(y_test,y_predicition)"
   ]
  },
  {
   "cell_type": "code",
   "execution_count": null,
   "id": "c17e4299-8218-4d36-9f44-3aed03aae053",
   "metadata": {},
   "outputs": [],
   "source": []
  },
  {
   "cell_type": "code",
   "execution_count": null,
   "id": "31d3d9f5-da4c-47b3-bcd7-793a889b560b",
   "metadata": {},
   "outputs": [],
   "source": []
  },
  {
   "cell_type": "code",
   "execution_count": null,
   "id": "749cfa52-3de6-423f-84c5-d48d0cfefca7",
   "metadata": {},
   "outputs": [],
   "source": []
  }
 ],
 "metadata": {
  "kernelspec": {
   "display_name": "Python 3 (ipykernel)",
   "language": "python",
   "name": "python3"
  },
  "language_info": {
   "codemirror_mode": {
    "name": "ipython",
    "version": 3
   },
   "file_extension": ".py",
   "mimetype": "text/x-python",
   "name": "python",
   "nbconvert_exporter": "python",
   "pygments_lexer": "ipython3",
   "version": "3.10.12"
  }
 },
 "nbformat": 4,
 "nbformat_minor": 5
}
